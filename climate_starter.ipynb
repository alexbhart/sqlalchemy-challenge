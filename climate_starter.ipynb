{
 "cells": [
  {
   "cell_type": "code",
   "execution_count": 2,
   "metadata": {},
   "outputs": [],
   "source": [
    "%matplotlib inline\n",
    "from matplotlib import style\n",
    "style.use('fivethirtyeight')\n",
    "import matplotlib.pyplot as plt\n",
    "import matplotlib.dates as mdates"
   ]
  },
  {
   "cell_type": "code",
   "execution_count": 3,
   "metadata": {},
   "outputs": [],
   "source": [
    "import numpy as np\n",
    "import pandas as pd\n",
    "import datetime as dt"
   ]
  },
  {
   "cell_type": "markdown",
   "metadata": {},
   "source": [
    "# Reflect Tables into SQLAlchemy ORM"
   ]
  },
  {
   "cell_type": "code",
   "execution_count": 4,
   "metadata": {},
   "outputs": [],
   "source": [
    "# Python SQL toolkit and Object Relational Mapper\n",
    "import sqlalchemy\n",
    "from sqlalchemy.ext.automap import automap_base\n",
    "from sqlalchemy.orm import Session\n",
    "from sqlalchemy import create_engine, func, inspect"
   ]
  },
  {
   "cell_type": "code",
   "execution_count": 5,
   "metadata": {},
   "outputs": [],
   "source": [
    "# create engine to hawaii.sqlite\n",
    "engine = create_engine(\"sqlite:///Resources/hawaii.sqlite\")\n",
    "inspector = inspect(engine)"
   ]
  },
  {
   "cell_type": "code",
   "execution_count": 6,
   "metadata": {},
   "outputs": [],
   "source": [
    "# reflect an existing database into a new model\n",
    "Base = automap_base()\n",
    "Base.prepare(autoload_with=engine)\n",
    "Base.classes.keys()\n",
    "\n",
    "# reflect the tables\n",
    "Measurement = Base.classes.measurement\n",
    "Station = Base.classes.station\n",
    "\n"
   ]
  },
  {
   "cell_type": "code",
   "execution_count": 7,
   "metadata": {},
   "outputs": [
    {
     "name": "stdout",
     "output_type": "stream",
     "text": [
      "id INTEGER\n",
      "station TEXT\n",
      "date TEXT\n",
      "prcp FLOAT\n",
      "tobs FLOAT\n",
      "id INTEGER\n",
      "station TEXT\n",
      "name TEXT\n",
      "latitude FLOAT\n",
      "longitude FLOAT\n",
      "elevation FLOAT\n"
     ]
    }
   ],
   "source": [
    "# View all of the classes that automap found\n",
    "meas_columns = inspector.get_columns('measurement')\n",
    "station_columns = inspector.get_columns('station')\n",
    "for x in meas_columns:\n",
    "    print(x['name'], x['type'])\n",
    "\n",
    "for x in station_columns:\n",
    "    print(x['name'], x['type'])"
   ]
  },
  {
   "cell_type": "code",
   "execution_count": 8,
   "metadata": {},
   "outputs": [],
   "source": [
    "# Create our session (link) from Python to the DB\n",
    "session = Session(engine)"
   ]
  },
  {
   "cell_type": "markdown",
   "metadata": {},
   "source": [
    "# Exploratory Precipitation Analysis"
   ]
  },
  {
   "cell_type": "code",
   "execution_count": 11,
   "metadata": {},
   "outputs": [
    {
     "data": {
      "text/plain": [
       "'2017-08-23'"
      ]
     },
     "execution_count": 11,
     "metadata": {},
     "output_type": "execute_result"
    }
   ],
   "source": [
    "# Find the most recent date in the data set.\n",
    "recent_date = session.query(Measurement.date).order_by(Measurement.date.desc()).first()\n",
    "recent_date[0]"
   ]
  },
  {
   "cell_type": "code",
   "execution_count": 15,
   "metadata": {},
   "outputs": [
    {
     "data": {
      "text/plain": [
       "datetime.date(2017, 8, 23)"
      ]
     },
     "execution_count": 15,
     "metadata": {},
     "output_type": "execute_result"
    }
   ],
   "source": [
    "recent_date = dt.date.fromisoformat(recent_date[0])"
   ]
  },
  {
   "cell_type": "code",
   "execution_count": 17,
   "metadata": {},
   "outputs": [
    {
     "data": {
      "text/plain": [
       "datetime.datetime(2016, 8, 23, 0, 0)"
      ]
     },
     "execution_count": 17,
     "metadata": {},
     "output_type": "execute_result"
    }
   ],
   "source": [
    "\n",
    "year_ago = dt.datetime(2017,8,23) - dt.timedelta(days = 365)\n",
    "year_ago"
   ]
  },
  {
   "cell_type": "code",
   "execution_count": 19,
   "metadata": {},
   "outputs": [
    {
     "name": "stdout",
     "output_type": "stream",
     "text": [
      "[('2017-08-23', 0.53), ('2017-08-22', 0.5), ('2017-08-21', 0.5800000000000001), ('2017-08-20', 0.01), ('2017-08-19', 0.09), ('2017-08-18', 0.06), ('2017-08-17', 0.19), ('2017-08-16', 0.61), ('2017-08-15', 0.8200000000000001), ('2017-08-14', 0.31), ('2017-08-13', 0.0), ('2017-08-12', 0.14), ('2017-08-11', 0.0), ('2017-08-10', 0.07), ('2017-08-09', 0.15), ('2017-08-08', 0.44000000000000006), ('2017-08-07', 0.05), ('2017-08-06', 0.0), ('2017-08-05', 0.06), ('2017-08-04', 0.06), ('2017-08-03', 0.06999999999999999), ('2017-08-02', 0.3), ('2017-08-01', 0.13999999999999999), ('2017-07-31', 0.0), ('2017-07-30', 0.3), ('2017-07-29', 0.61), ('2017-07-28', 0.77), ('2017-07-27', 0.01), ('2017-07-26', 0.5), ('2017-07-25', 0.61), ('2017-07-24', 3.2699999999999996), ('2017-07-23', 1.1300000000000001), ('2017-07-22', 4.42), ('2017-07-21', 0.13), ('2017-07-20', 1.24), ('2017-07-19', 0.41000000000000003), ('2017-07-18', 2.53), ('2017-07-17', 0.91), ('2017-07-16', 0.81), ('2017-07-15', 0.19), ('2017-07-14', 0.9500000000000001), ('2017-07-13', 1.81), ('2017-07-12', 0.36000000000000004), ('2017-07-11', 0.03), ('2017-07-10', 0.04), ('2017-07-09', 0.2), ('2017-07-08', 0.1), ('2017-07-07', 0.5), ('2017-07-06', 0.02), ('2017-07-05', 0.0), ('2017-07-04', 0.15000000000000002), ('2017-07-03', 0.74), ('2017-07-02', 0.72), ('2017-07-01', 0.26), ('2017-06-30', 0.52), ('2017-06-29', 0.07), ('2017-06-28', 0.03), ('2017-06-27', 0.11), ('2017-06-26', 0.1), ('2017-06-25', 0.6), ('2017-06-24', 0.64), ('2017-06-23', 0.6699999999999999), ('2017-06-22', 0.44000000000000006), ('2017-06-21', 0.51), ('2017-06-20', 0.55), ('2017-06-19', 0.73), ('2017-06-18', 1.42), ('2017-06-17', 0.54), ('2017-06-16', 0.2), ('2017-06-15', 2.71), ('2017-06-14', 1.57), ('2017-06-13', 1.38), ('2017-06-12', 1.75), ('2017-06-11', 2.15), ('2017-06-10', 1.53), ('2017-06-09', 0.04), ('2017-06-08', 0.03), ('2017-06-07', 0.01), ('2017-06-06', 0.0), ('2017-06-05', 0.08), ('2017-06-04', 1.15), ('2017-06-03', 0.61), ('2017-06-02', 0.33999999999999997), ('2017-06-01', 0.04), ('2017-05-31', 0.37), ('2017-05-30', 1.73), ('2017-05-29', 0.42000000000000004), ('2017-05-28', 0.41000000000000003), ('2017-05-27', 0.51), ('2017-05-26', 0.02), ('2017-05-25', 2.22), ('2017-05-24', 3.8899999999999997), ('2017-05-23', 0.71), ('2017-05-22', 0.36), ('2017-05-21', 0.01), ('2017-05-20', 0.03), ('2017-05-19', 0.04), ('2017-05-18', 0.85), ('2017-05-17', 0.15000000000000002), ('2017-05-16', 0.42), ('2017-05-15', 0.88), ('2017-05-14', 1.22), ('2017-05-13', 0.24), ('2017-05-12', 0.16), ('2017-05-11', 0.6), ('2017-05-10', 0.8600000000000001), ('2017-05-09', 4.630000000000001), ('2017-05-08', 3.01), ('2017-05-07', 0.12000000000000001), ('2017-05-06', 0.06), ('2017-05-05', 0.38), ('2017-05-04', 0.08), ('2017-05-03', 0.03), ('2017-05-02', 0.05), ('2017-05-01', 0.81), ('2017-04-30', 6.42), ('2017-04-29', 8.04), ('2017-04-28', 4.24), ('2017-04-27', 0.42), ('2017-04-26', 0.39), ('2017-04-25', 0.0), ('2017-04-24', 0.060000000000000005), ('2017-04-23', 0.45999999999999996), ('2017-04-22', 4.960000000000001), ('2017-04-21', 8.38), ('2017-04-20', 0.78), ('2017-04-19', 0.2), ('2017-04-18', 3.36), ('2017-04-17', 3.0700000000000003), ('2017-04-16', 1.07), ('2017-04-15', 1.7400000000000002), ('2017-04-14', 6.72), ('2017-04-13', 1.09), ('2017-04-12', 1.08), ('2017-04-11', 0.47), ('2017-04-10', 0.02), ('2017-04-09', 0.0), ('2017-04-08', 0.0), ('2017-04-07', 0.0), ('2017-04-06', 0.06), ('2017-04-05', 0.66), ('2017-04-04', 0.15), ('2017-04-03', 0.66), ('2017-04-02', 0.0), ('2017-04-01', 0.41000000000000003), ('2017-03-31', 0.01), ('2017-03-30', 0.15), ('2017-03-29', 0.19), ('2017-03-28', 0.7100000000000001), ('2017-03-27', 0.01), ('2017-03-26', 0.0), ('2017-03-25', 1.9700000000000002), ('2017-03-24', 1.1300000000000001), ('2017-03-23', 0.05), ('2017-03-22', 0.0), ('2017-03-21', 0.09), ('2017-03-20', 0.02), ('2017-03-19', 0.0), ('2017-03-18', 0.0), ('2017-03-17', 0.72), ('2017-03-16', 0.0), ('2017-03-15', 0.06), ('2017-03-14', 0.06), ('2017-03-13', 0.0), ('2017-03-12', 0.0), ('2017-03-11', 0.04), ('2017-03-10', 0.29000000000000004), ('2017-03-09', 1.9600000000000002), ('2017-03-08', 0.0), ('2017-03-07', 0.0), ('2017-03-06', 0.54), ('2017-03-05', 1.21), ('2017-03-04', 0.0), ('2017-03-03', 2.23), ('2017-03-02', 6.56), ('2017-03-01', 11.620000000000001), ('2017-02-28', 0.82), ('2017-02-27', 0.0), ('2017-02-26', 0.0), ('2017-02-25', 0.15), ('2017-02-24', 0.0), ('2017-02-23', 0.01), ('2017-02-22', 0.9100000000000001), ('2017-02-21', 0.13), ('2017-02-20', 0.0), ('2017-02-19', 0.19), ('2017-02-18', 0.01), ('2017-02-17', 1.0500000000000003), ('2017-02-16', 2.2199999999999998), ('2017-02-15', 0.08), ('2017-02-14', 0.01), ('2017-02-13', 2.9199999999999995), ('2017-02-12', 10.48), ('2017-02-11', 11.200000000000001), ('2017-02-10', 0.0), ('2017-02-09', 0.02), ('2017-02-08', 1.08), ('2017-02-07', 7.4), ('2017-02-06', 0.38), ('2017-02-05', 0.0), ('2017-02-04', 0.0), ('2017-02-03', 0.0), ('2017-02-02', 0.0), ('2017-02-01', 0.0), ('2017-01-31', 0.0), ('2017-01-30', 0.05), ('2017-01-29', 0.99), ('2017-01-28', 0.14), ('2017-01-27', 0.06), ('2017-01-26', 0.11), ('2017-01-25', 3.58), ('2017-01-24', 2.25), ('2017-01-23', 0.94), ('2017-01-22', 1.02), ('2017-01-21', 0.27999999999999997), ('2017-01-20', 0.0), ('2017-01-19', 0.02), ('2017-01-18', 0.07), ('2017-01-17', 0.0), ('2017-01-16', 0.0), ('2017-01-15', 0.01), ('2017-01-14', 0.01), ('2017-01-13', 0.0), ('2017-01-12', 0.0), ('2017-01-11', 0.0), ('2017-01-10', 0.0), ('2017-01-09', 0.0), ('2017-01-08', 0.06), ('2017-01-07', 0.06), ('2017-01-06', 0.7999999999999999), ('2017-01-05', 0.95), ('2017-01-04', 0.18), ('2017-01-03', 0.0), ('2017-01-02', 0.02), ('2017-01-01', 0.35), ('2016-12-31', 2.14), ('2016-12-30', 3.35), ('2016-12-29', 2.38), ('2016-12-28', 0.41000000000000003), ('2016-12-27', 0.24000000000000002), ('2016-12-26', 2.04), ('2016-12-25', 0.43), ('2016-12-24', 1.62), ('2016-12-23', 1.23), ('2016-12-22', 2.4699999999999998), ('2016-12-21', 0.9), ('2016-12-20', 0.03), ('2016-12-19', 0.42000000000000004), ('2016-12-18', 0.89), ('2016-12-17', 0.35000000000000003), ('2016-12-16', 0.04), ('2016-12-15', 0.26), ('2016-12-14', 1.5), ('2016-12-13', 0.77), ('2016-12-12', 0.05), ('2016-12-11', 0.25), ('2016-12-10', 0.13), ('2016-12-09', 1.85), ('2016-12-08', 0.4600000000000001), ('2016-12-07', 0.38), ('2016-12-06', 0.04), ('2016-12-05', 3.24), ('2016-12-04', 0.8), ('2016-12-03', 2.71), ('2016-12-02', 2.36), ('2016-12-01', 1.77), ('2016-11-30', 1.06), ('2016-11-29', 0.43000000000000005), ('2016-11-28', 0.72), ('2016-11-27', 0.55), ('2016-11-26', 0.51), ('2016-11-25', 1.32), ('2016-11-24', 1.48), ('2016-11-23', 0.67), ('2016-11-22', 5.01), ('2016-11-21', 3.08), ('2016-11-20', 0.9500000000000001), ('2016-11-19', 0.38), ('2016-11-18', 0.03), ('2016-11-17', 0.06), ('2016-11-16', 1.54), ('2016-11-15', 0.05), ('2016-11-14', 0.15), ('2016-11-13', 0.0), ('2016-11-12', 0.0), ('2016-11-11', 0.0), ('2016-11-10', 0.01), ('2016-11-09', 0.39999999999999997), ('2016-11-08', 1.12), ('2016-11-07', 0.18), ('2016-11-06', 0.08), ('2016-11-05', 0.45), ('2016-11-04', 0.06), ('2016-11-03', 0.02), ('2016-11-02', 0.04), ('2016-11-01', 0.21000000000000002), ('2016-10-31', 1.61), ('2016-10-30', 1.5899999999999999), ('2016-10-29', 0.64), ('2016-10-28', 0.5700000000000001), ('2016-10-27', 1.8599999999999999), ('2016-10-26', 0.29000000000000004), ('2016-10-25', 1.1), ('2016-10-24', 0.7899999999999999), ('2016-10-23', 0.27999999999999997), ('2016-10-22', 1.77), ('2016-10-21', 0.32), ('2016-10-20', 1.01), ('2016-10-19', 0.16999999999999998), ('2016-10-18', 0.6), ('2016-10-17', 0.55), ('2016-10-16', 0.0), ('2016-10-15', 0.39), ('2016-10-14', 0.0), ('2016-10-13', 0.08), ('2016-10-12', 0.08), ('2016-10-11', 0.69), ('2016-10-10', 0.0), ('2016-10-09', 0.0), ('2016-10-08', 0.04), ('2016-10-07', 0.01), ('2016-10-06', 0.16), ('2016-10-05', 0.8200000000000001), ('2016-10-04', 3.4899999999999998), ('2016-10-03', 0.6900000000000001), ('2016-10-02', 0.72), ('2016-10-01', 1.4500000000000002), ('2016-09-30', 1.15), ('2016-09-29', 2.99), ('2016-09-28', 0.13), ('2016-09-27', 1.3599999999999999), ('2016-09-26', 1.67), ('2016-09-25', 0.09), ('2016-09-24', 0.28), ('2016-09-23', 1.57), ('2016-09-22', 1.44), ('2016-09-21', 1.17), ('2016-09-20', 1.03), ('2016-09-19', 0.32), ('2016-09-18', 0.53), ('2016-09-17', 0.6799999999999999), ('2016-09-16', 0.8200000000000001), ('2016-09-15', 4.96), ('2016-09-14', 14.280000000000001), ('2016-09-13', 2.71), ('2016-09-12', 1.54), ('2016-09-11', 1.25), ('2016-09-10', 1.4), ('2016-09-09', 1.0699999999999998), ('2016-09-08', 0.4600000000000001), ('2016-09-07', 2.0), ('2016-09-06', 1.23), ('2016-09-05', 0.33999999999999997), ('2016-09-04', 1.3800000000000001), ('2016-09-03', 1.27), ('2016-09-02', 0.25), ('2016-09-01', 0.03), ('2016-08-31', 3.1799999999999997), ('2016-08-30', 0.07), ('2016-08-29', 1.46), ('2016-08-28', 3.0999999999999996), ('2016-08-27', 0.31999999999999995), ('2016-08-26', 0.09999999999999999), ('2016-08-25', 0.54), ('2016-08-24', 9.329999999999998)]\n"
     ]
    }
   ],
   "source": [
    "precip = session.query(Measurement.date, func.sum(Measurement.prcp)).filter(Measurement.date > (year_ago)).order_by(Measurement.date.desc()).group_by(Measurement.date).all()\n",
    "print(precip)"
   ]
  },
  {
   "cell_type": "code",
   "execution_count": 84,
   "metadata": {},
   "outputs": [
    {
     "data": {
      "image/png": "[encoded data removed]",
      "text/plain": [
       "<Figure size 640x480 with 1 Axes>"
      ]
     },
     "metadata": {},
     "output_type": "display_data"
    }
   ],
   "source": [
    "# Design a query to retrieve the last 12 months of precipitation data and plot the results. \n",
    "\n",
    "# Starting from the most recent data point in the database. \n",
    "\n",
    "# Calculate the date one year from the last date in data set.\n",
    "year_ago = dt.datetime(2017,8,23) - dt.timedelta(days = 365)\n",
    "\n",
    "\n",
    "# Perform a query to retrieve the data and precipitation scores\n",
    "precip = session.query(Measurement.date, func.sum(Measurement.prcp)).filter(Measurement.date > (year_ago)).order_by(Measurement.date.desc()).group_by(Measurement.date).all()\n",
    "\n",
    "\n",
    "# Save the query results as a Pandas DataFrame and set the index to the date column\n",
    "precip_df = pd.DataFrame(precip, columns = ['date', 'prcp'])\n",
    "precip_df.set_index('date', inplace=True)\n",
    "\n",
    "# Sort the dataframe by date\n",
    "precip_df = precip_df.sort_values('date')\n",
    "precip_df.index = pd.to_datetime(precip_df.index).date\n",
    "\n",
    "\n",
    "# Use Pandas Plotting with Matplotlib to plot the data\n",
    "ax = precip_df.plot.bar()\n",
    "ax.xaxis.set_major_locator(mdates.MonthLocator(interval=1))\n",
    "# ax.xaxis.set_major_formatter(mdates.DateFormatter('%Y-%m-%d'))\n",
    "plt.gcf().autofmt_xdate()\n",
    "plt.show()\n",
    "\n",
    "\n",
    "\n",
    "\n"
   ]
  },
  {
   "cell_type": "code",
   "execution_count": 63,
   "metadata": {},
   "outputs": [
    {
     "data": {
      "text/html": [
       "<div>\n",
       "<style scoped>\n",
       "    .dataframe tbody tr th:only-of-type {\n",
       "        vertical-align: middle;\n",
       "    }\n",
       "\n",
       "    .dataframe tbody tr th {\n",
       "        vertical-align: top;\n",
       "    }\n",
       "\n",
       "    .dataframe thead th {\n",
       "        text-align: right;\n",
       "    }\n",
       "</style>\n",
       "<table border=\"1\" class=\"dataframe\">\n",
       "  <thead>\n",
       "    <tr style=\"text-align: right;\">\n",
       "      <th></th>\n",
       "      <th>prcp</th>\n",
       "    </tr>\n",
       "    <tr>\n",
       "      <th>date</th>\n",
       "      <th></th>\n",
       "    </tr>\n",
       "  </thead>\n",
       "  <tbody>\n",
       "    <tr>\n",
       "      <th>2016-08-24</th>\n",
       "      <td>9.33</td>\n",
       "    </tr>\n",
       "    <tr>\n",
       "      <th>2016-08-25</th>\n",
       "      <td>0.54</td>\n",
       "    </tr>\n",
       "    <tr>\n",
       "      <th>2016-08-26</th>\n",
       "      <td>0.10</td>\n",
       "    </tr>\n",
       "    <tr>\n",
       "      <th>2016-08-27</th>\n",
       "      <td>0.32</td>\n",
       "    </tr>\n",
       "    <tr>\n",
       "      <th>2016-08-28</th>\n",
       "      <td>3.10</td>\n",
       "    </tr>\n",
       "  </tbody>\n",
       "</table>\n",
       "</div>"
      ],
      "text/plain": [
       "            prcp\n",
       "date            \n",
       "2016-08-24  9.33\n",
       "2016-08-25  0.54\n",
       "2016-08-26  0.10\n",
       "2016-08-27  0.32\n",
       "2016-08-28  3.10"
      ]
     },
     "execution_count": 63,
     "metadata": {},
     "output_type": "execute_result"
    }
   ],
   "source": [
    "precip_df.head()"
   ]
  },
  {
   "cell_type": "code",
   "execution_count": 73,
   "metadata": {},
   "outputs": [
    {
     "data": {
      "text/html": [
       "<div>\n",
       "<style scoped>\n",
       "    .dataframe tbody tr th:only-of-type {\n",
       "        vertical-align: middle;\n",
       "    }\n",
       "\n",
       "    .dataframe tbody tr th {\n",
       "        vertical-align: top;\n",
       "    }\n",
       "\n",
       "    .dataframe thead th {\n",
       "        text-align: right;\n",
       "    }\n",
       "</style>\n",
       "<table border=\"1\" class=\"dataframe\">\n",
       "  <thead>\n",
       "    <tr style=\"text-align: right;\">\n",
       "      <th></th>\n",
       "      <th>prcp</th>\n",
       "    </tr>\n",
       "  </thead>\n",
       "  <tbody>\n",
       "    <tr>\n",
       "      <th>count</th>\n",
       "      <td>365.000000</td>\n",
       "    </tr>\n",
       "    <tr>\n",
       "      <th>mean</th>\n",
       "      <td>0.974164</td>\n",
       "    </tr>\n",
       "    <tr>\n",
       "      <th>std</th>\n",
       "      <td>1.776466</td>\n",
       "    </tr>\n",
       "    <tr>\n",
       "      <th>min</th>\n",
       "      <td>0.000000</td>\n",
       "    </tr>\n",
       "    <tr>\n",
       "      <th>25%</th>\n",
       "      <td>0.050000</td>\n",
       "    </tr>\n",
       "    <tr>\n",
       "      <th>50%</th>\n",
       "      <td>0.400000</td>\n",
       "    </tr>\n",
       "    <tr>\n",
       "      <th>75%</th>\n",
       "      <td>1.080000</td>\n",
       "    </tr>\n",
       "    <tr>\n",
       "      <th>max</th>\n",
       "      <td>14.280000</td>\n",
       "    </tr>\n",
       "  </tbody>\n",
       "</table>\n",
       "</div>"
      ],
      "text/plain": [
       "             prcp\n",
       "count  365.000000\n",
       "mean     0.974164\n",
       "std      1.776466\n",
       "min      0.000000\n",
       "25%      0.050000\n",
       "50%      0.400000\n",
       "75%      1.080000\n",
       "max     14.280000"
      ]
     },
     "execution_count": 73,
     "metadata": {},
     "output_type": "execute_result"
    }
   ],
   "source": [
    "# Use Pandas to calcualte the summary statistics for the precipitation data\n",
    "precip_df.describe()\n"
   ]
  },
  {
   "cell_type": "markdown",
   "metadata": {},
   "source": [
    "# Exploratory Station Analysis"
   ]
  },
  {
   "cell_type": "code",
   "execution_count": 78,
   "metadata": {},
   "outputs": [
    {
     "name": "stdout",
     "output_type": "stream",
     "text": [
      "[(9,)]\n"
     ]
    }
   ],
   "source": [
    "# Design a query to calculate the total number stations in the dataset\n",
    "number_of_stations = session.query(func.count(Station.id)).all()\n",
    "print(number_of_stations)"
   ]
  },
  {
   "cell_type": "code",
   "execution_count": 97,
   "metadata": {},
   "outputs": [
    {
     "name": "stdout",
     "output_type": "stream",
     "text": [
      "('USC00519281', 2772)\n",
      "('USC00519397', 2724)\n",
      "('USC00513117', 2709)\n",
      "('USC00519523', 2669)\n",
      "('USC00516128', 2612)\n",
      "('USC00514830', 2202)\n",
      "('USC00511918', 1979)\n",
      "('USC00517948', 1372)\n",
      "('USC00518838', 511)\n",
      "USC00519281\n"
     ]
    }
   ],
   "source": [
    "# Design a query to find the most active stations (i.e. what stations have the most rows?)\n",
    "all_stations_count = session.query(Measurement.station, func.count(Measurement.station)).group_by(Measurement.station).order_by(func.count(Measurement.station).desc()).all()\n",
    "most_active = session.query(Measurement.station, func.count(Measurement.station)).group_by(Measurement.station).order_by(func.count(Measurement.station).desc()).first()\n",
    "\n",
    "\n",
    "# List the stations and the counts in descending order.\n",
    "for x in all_stations_count:\n",
    "    print(x)\n",
    "\n",
    "print(most_active[0])"
   ]
  },
  {
   "cell_type": "code",
   "execution_count": 96,
   "metadata": {},
   "outputs": [
    {
     "name": "stdout",
     "output_type": "stream",
     "text": [
      "[('USC00519281', 54.0, 85.0, 71.66)]\n"
     ]
    }
   ],
   "source": [
    "# Using the most active station id from the previous query, calculate the lowest, highest, and average temperature.\n",
    "active_summary = session.query(Measurement.station, func.min(Measurement.tobs), func.max(Measurement.tobs), func.round(func.avg(Measurement.tobs), 2)).filter(Measurement.station == most_active[0]).all()\n",
    "for x in active_summary:\n",
    "    print(active_summary)"
   ]
  },
  {
   "cell_type": "code",
   "execution_count": 100,
   "metadata": {},
   "outputs": [],
   "source": [
    "# Using the most active station id\n",
    "# Query the last 12 months of temperature observation data for this station and plot the results as a histogram\n",
    "last_year_tobs = session.query(Measurement.date, Measurement.tobs).filter(Measurement.station == most_active[0]).filter(Measurement.date > year_ago).order_by(Measurement.date.desc()).all()\n",
    "# for x in last_year_tobs:\n",
    "#     print(x)\n",
    "last_year_df = pd.DataFrame(last_year_tobs, columns = ['date', 'temperature'])\n"
   ]
  },
  {
   "cell_type": "code",
   "execution_count": 102,
   "metadata": {},
   "outputs": [
    {
     "data": {
      "text/plain": [
       "Text(0, 0.5, 'Frequency')"
      ]
     },
     "execution_count": 102,
     "metadata": {},
     "output_type": "execute_result"
    },
    {
     "data": {
      "image/png": "[encoded data removed]",
      "text/plain": [
       "<Figure size 640x480 with 1 Axes>"
      ]
     },
     "metadata": {},
     "output_type": "display_data"
    }
   ],
   "source": [
    "ax = plt.hist(last_year_df['temperature'], bins=12)\n",
    "plt.xlabel('Temperature')\n",
    "plt.ylabel('Frequency')"
   ]
  },
  {
   "cell_type": "markdown",
   "metadata": {},
   "source": [
    "# Close session"
   ]
  },
  {
   "cell_type": "code",
   "execution_count": 103,
   "metadata": {},
   "outputs": [],
   "source": [
    "# Close Session\n",
    "session.close()"
   ]
  },
  {
   "cell_type": "code",
   "execution_count": null,
   "metadata": {},
   "outputs": [],
   "source": []
  }
 ],
 "metadata": {
  "anaconda-cloud": {},
  "kernel_info": {
   "name": "python3"
  },
  "kernelspec": {
   "display_name": "base",
   "language": "python",
   "name": "python3"
  },
  "language_info": {
   "codemirror_mode": {
    "name": "ipython",
    "version": 3
   },
   "file_extension": ".py",
   "mimetype": "text/x-python",
   "name": "python",
   "nbconvert_exporter": "python",
   "pygments_lexer": "ipython3",
   "version": "3.9.13"
  },
  "nteract": {
   "version": "0.12.3"
  },
  "varInspector": {
   "cols": {
    "lenName": 16,
    "lenType": 16,
    "lenVar": 40
   },
   "kernels_config": {
    "python": {
     "delete_cmd_postfix": "",
     "delete_cmd_prefix": "del ",
     "library": "var_list.py",
     "varRefreshCmd": "print(var_dic_list())"
    },
    "r": {
     "delete_cmd_postfix": ") ",
     "delete_cmd_prefix": "rm(",
     "library": "var_list.r",
     "varRefreshCmd": "cat(var_dic_list()) "
    }
   },
   "types_to_exclude": [
    "module",
    "function",
    "builtin_function_or_method",
    "instance",
    "_Feature"
   ],
   "window_display": false
  },
  "vscode": {
   "interpreter": {
    "hash": "164751151c6e335a7a92f4421067e43853240df318465425aa3b2578bd5f41e4"
   }
  }
 },
 "nbformat": 4,
 "nbformat_minor": 2
}
